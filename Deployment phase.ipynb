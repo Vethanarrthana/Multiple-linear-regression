{
 "cells": [
  {
   "cell_type": "code",
   "execution_count": 1,
   "id": "b50e5b72",
   "metadata": {},
   "outputs": [],
   "source": [
    "#save the model\n",
    "import pickle\n",
    "filename=\"finalised_multiple_linear.sav\""
   ]
  },
  {
   "cell_type": "code",
   "execution_count": 3,
   "id": "44c55c2e",
   "metadata": {},
   "outputs": [
    {
     "name": "stderr",
     "output_type": "stream",
     "text": [
      "C:\\ProgramData\\anaconda3\\lib\\site-packages\\sklearn\\base.py:420: UserWarning: X does not have valid feature names, but LinearRegression was fitted with feature names\n",
      "  warnings.warn(\n"
     ]
    }
   ],
   "source": [
    "loaded_model=pickle.load(open(\"finalised_multiple_linear.sav\",'rb')) #load the saved model\n",
    "result=loaded_model.predict([[12,34,56,78,90]])"
   ]
  },
  {
   "cell_type": "code",
   "execution_count": 4,
   "id": "c045a893",
   "metadata": {},
   "outputs": [
    {
     "data": {
      "text/plain": [
       "array([[105964.34742589]])"
      ]
     },
     "execution_count": 4,
     "metadata": {},
     "output_type": "execute_result"
    }
   ],
   "source": [
    "result #view the result"
   ]
  },
  {
   "cell_type": "code",
   "execution_count": null,
   "id": "96fd3cbd",
   "metadata": {},
   "outputs": [],
   "source": []
  }
 ],
 "metadata": {
  "kernelspec": {
   "display_name": "Python 3 (ipykernel)",
   "language": "python",
   "name": "python3"
  },
  "language_info": {
   "codemirror_mode": {
    "name": "ipython",
    "version": 3
   },
   "file_extension": ".py",
   "mimetype": "text/x-python",
   "name": "python",
   "nbconvert_exporter": "python",
   "pygments_lexer": "ipython3",
   "version": "3.10.9"
  }
 },
 "nbformat": 4,
 "nbformat_minor": 5
}
